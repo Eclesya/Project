{
 "cells": [
  {
   "cell_type": "code",
   "execution_count": 17,
   "metadata": {},
   "outputs": [],
   "source": [
    "#%run greenpass.ipynb"
   ]
  },
  {
   "cell_type": "code",
   "execution_count": 20,
   "metadata": {},
   "outputs": [],
   "source": [
    "    def createPassForTest(dataTest):\n",
    "        p = CovidPass(\"test\",\"test\")\n",
    "        p.setData(dataTest)\n",
    "        p.QRcodeGetData()\n",
    "        p.AfficherPass()\n",
    "        return p"
   ]
  },
  {
   "cell_type": "code",
   "execution_count": 1,
   "metadata": {},
   "outputs": [
    {
     "ename": "NameError",
     "evalue": "name 'CovidPass' is not defined",
     "output_type": "error",
     "traceback": [
      "\u001b[1;31m---------------------------------------------------------------------------\u001b[0m",
      "\u001b[1;31mNameError\u001b[0m                                 Traceback (most recent call last)",
      "\u001b[1;32m<ipython-input-1-c021d730d31e>\u001b[0m in \u001b[0;36m<module>\u001b[1;34m\u001b[0m\n\u001b[1;32m----> 1\u001b[1;33m \u001b[1;32mclass\u001b[0m \u001b[0mtestsUnits\u001b[0m\u001b[1;33m:\u001b[0m\u001b[1;33m\u001b[0m\u001b[1;33m\u001b[0m\u001b[0m\n\u001b[0m\u001b[0;32m      2\u001b[0m \u001b[1;33m\u001b[0m\u001b[0m\n\u001b[0;32m      3\u001b[0m     \u001b[0mPassVaccinalOceaneSansRappel\u001b[0m \u001b[1;33m=\u001b[0m \u001b[0mCovidPass\u001b[0m\u001b[1;33m(\u001b[0m\u001b[1;34m\"TestsPass/OCEANE_DELETREZ_VAC.png\"\u001b[0m\u001b[1;33m,\u001b[0m\u001b[1;34m\"png\"\u001b[0m\u001b[1;33m)\u001b[0m\u001b[1;33m\u001b[0m\u001b[1;33m\u001b[0m\u001b[0m\n\u001b[0;32m      4\u001b[0m     \u001b[0mPassVaccinalOceaneAvecRappel\u001b[0m \u001b[1;33m=\u001b[0m \u001b[0mCovidPass\u001b[0m\u001b[1;33m(\u001b[0m\u001b[1;34m\"TestsPass/OCEANE_DELETREZ_VAC2.png\"\u001b[0m\u001b[1;33m,\u001b[0m\u001b[1;34m\"png\"\u001b[0m\u001b[1;33m)\u001b[0m\u001b[1;33m\u001b[0m\u001b[1;33m\u001b[0m\u001b[0m\n\u001b[0;32m      5\u001b[0m     \u001b[0mPassVaccinalPhilippeSansRappel\u001b[0m \u001b[1;33m=\u001b[0m \u001b[0mCovidPass\u001b[0m\u001b[1;33m(\u001b[0m\u001b[1;34m\"TestsPass/Pass_Sanitaire_PHILIPPE_Vac.png\"\u001b[0m\u001b[1;33m,\u001b[0m\u001b[1;34m\"png\"\u001b[0m\u001b[1;33m)\u001b[0m\u001b[1;33m\u001b[0m\u001b[1;33m\u001b[0m\u001b[0m\n",
      "\u001b[1;32m<ipython-input-1-c021d730d31e>\u001b[0m in \u001b[0;36mtestsUnits\u001b[1;34m()\u001b[0m\n\u001b[0;32m      1\u001b[0m \u001b[1;32mclass\u001b[0m \u001b[0mtestsUnits\u001b[0m\u001b[1;33m:\u001b[0m\u001b[1;33m\u001b[0m\u001b[1;33m\u001b[0m\u001b[0m\n\u001b[0;32m      2\u001b[0m \u001b[1;33m\u001b[0m\u001b[0m\n\u001b[1;32m----> 3\u001b[1;33m     \u001b[0mPassVaccinalOceaneSansRappel\u001b[0m \u001b[1;33m=\u001b[0m \u001b[0mCovidPass\u001b[0m\u001b[1;33m(\u001b[0m\u001b[1;34m\"TestsPass/OCEANE_DELETREZ_VAC.png\"\u001b[0m\u001b[1;33m,\u001b[0m\u001b[1;34m\"png\"\u001b[0m\u001b[1;33m)\u001b[0m\u001b[1;33m\u001b[0m\u001b[1;33m\u001b[0m\u001b[0m\n\u001b[0m\u001b[0;32m      4\u001b[0m     \u001b[0mPassVaccinalOceaneAvecRappel\u001b[0m \u001b[1;33m=\u001b[0m \u001b[0mCovidPass\u001b[0m\u001b[1;33m(\u001b[0m\u001b[1;34m\"TestsPass/OCEANE_DELETREZ_VAC2.png\"\u001b[0m\u001b[1;33m,\u001b[0m\u001b[1;34m\"png\"\u001b[0m\u001b[1;33m)\u001b[0m\u001b[1;33m\u001b[0m\u001b[1;33m\u001b[0m\u001b[0m\n\u001b[0;32m      5\u001b[0m     \u001b[0mPassVaccinalPhilippeSansRappel\u001b[0m \u001b[1;33m=\u001b[0m \u001b[0mCovidPass\u001b[0m\u001b[1;33m(\u001b[0m\u001b[1;34m\"TestsPass/Pass_Sanitaire_PHILIPPE_Vac.png\"\u001b[0m\u001b[1;33m,\u001b[0m\u001b[1;34m\"png\"\u001b[0m\u001b[1;33m)\u001b[0m\u001b[1;33m\u001b[0m\u001b[1;33m\u001b[0m\u001b[0m\n",
      "\u001b[1;31mNameError\u001b[0m: name 'CovidPass' is not defined"
     ]
    }
   ],
   "source": [
    "class testsUnits:\n",
    "    \n",
    "    PassVaccinalOceaneSansRappel = CovidPass(\"TestsPass/OCEANE_DELETREZ_VAC.png\",\"png\")\n",
    "    PassVaccinalOceaneAvecRappel = CovidPass(\"TestsPass/OCEANE_DELETREZ_VAC2.png\",\"png\")\n",
    "    PassVaccinalPhilippeSansRappel = CovidPass(\"TestsPass/PHILIPPE_VAC.png\",\"png\")\n",
    "    PassTestOceane = CovidPass(\"TestsPass/OCEANE_TEST.png\",\"png\")\n",
    "    PassRetabEric = CovidPass(\"TestsPass/ERIC_RETAB.png\",\"png\")\n",
    "    \n",
    "    def __init__(self):\n",
    "        None\n",
    "        \n",
    "    def checkReadingQRCode(self,greenPass):\n",
    "        print(\"Lecture du QR code fournit en params....\")  \n",
    "        print(\"----------------------------------------------------------------------\")\n",
    "        print(greenPass.readQRcode())\n",
    "        print(\"----------------------------------------------------------------------\")\n",
    "    \n",
    "    def checkDecodingQRCode(self,greenPass):\n",
    "        greenPass.readQRcode() #Lecture\n",
    "\n",
    "        print(\"Affichage selon le schéma ....\")  \n",
    "        print(\"----------------------------------------------------------------------\")\n",
    "        greenPass.decodeQRcodeData(True)#Decodage\n",
    "        print(\"----------------------------------------------------------------------\")\n",
    "        \n",
    "        #print(\"Affichage brut des données....\")  \n",
    "        #print(\"----------------------------------------------------------------------\")\n",
    "        #greenPass.getData()\n",
    "        #print(\"----------------------------------------------------------------------\")\n",
    "       \n",
    "        print(\"Affichage des valeurs et des clefs....\")  \n",
    "        print(\"----------------------------------------------------------------------\")\n",
    "        greenPass.PassPrintData()\n",
    "        print(\"----------------------------------------------------------------------\")\n",
    "        \n",
    "    def checkStockerVariablesQRCode(self,greenPass):\n",
    "        greenPass.readQRcode() #Lecture\n",
    "        #greenPass.decodeQRcodeData()#Decodage\n",
    "        print(\"Obtention et stockage des valeurs du QR code....\")  \n",
    "        print(\"----------------------------------------------------------------------\")\n",
    "        greenPass.QRcodeGetData()\n",
    "        print(\"----------------------------------------------------------------------\")\n",
    "        \n",
    "    def checkAfficherQRCode(self,greenPass):   \n",
    "        #greenPass.readQRcode() #Lecture\n",
    "        #greenPass.decodeQRcodeData()#Decodage\n",
    "        greenPass.QRcodeGetData()#stockage des variables\n",
    "        print(\"Affichage du Pass Sanitaire....\")  \n",
    "        print(\"----------------------------------------------------------------------\")\n",
    "        greenPass.AfficherPass()\n",
    "        print(\"----------------------------------------------------------------------\")\n",
    "        \n",
    "\n",
    "    def checkValidity(self,greenPass):\n",
    "        print(\"Affichage de la validité du pass Sanitaire....\")  \n",
    "        print(\"----------------------------------------------------------------------\")\n",
    "        #greenPass.readQRcode()\n",
    "        #greenPass.decodeQRcodeData()#Decodage\n",
    "        greenPass.QRcodeGetData()#stockage des variables\n",
    "        greenPass.QRCodeDateValidity()\n",
    "        print(\"Date de validité du QRCode\" , str(greenPass.QRCodeValidityDate)) ##Affichage de la date de validité du QR Code\n",
    "        greenPass.QRCodeIsValid()\n",
    "        print(\"Pass Valid : \", greenPass.isValid)\n",
    "        print(\"----------------------------------------------------------------------\")\n",
    "        \n",
    "    def newFakePassData(self,dataTest,date):\n",
    "        p = CovidPass(\"test\",\"test\")\n",
    "        p.QRCodeDateGenerated = date\n",
    "        p.setData(dataTest)\n",
    "        p.QRcodeGetData()\n",
    "        p.getData()\n",
    "        p.AfficherPass()\n",
    "        return p\n",
    "\n"
   ]
  },
  {
   "cell_type": "code",
   "execution_count": 64,
   "metadata": {},
   "outputs": [],
   "source": []
  },
  {
   "cell_type": "code",
   "execution_count": 1,
   "metadata": {},
   "outputs": [],
   "source": [
    "data1 =  {'v': [{'ci': 'URN:UVCI:01:FR:RTMWPU0RV5BW#3','co': 'FR','dn': 2,'dt': '2021-08-22','is': 'CNAM','ma': 'ORG-100030215','mp': 'EU/1/20/1528','sd': 2,'tg': '840539006','vp': 'J07BX03'}],'dob': '1998-06-12','nam': {'fn': 'DELEAAATREZ', 'gn': 'OCEANE', 'fnt': 'DELETREZ', 'gnt': 'OCEANE'},'ver': '1.3.0'}\n",
    "data2 =  {'v': [{'ci': 'URN:UVCI:01:FR:RTMWPU0RV5BW#3','co': 'FR','dn': 2,'dt': '2021-08-22','is': 'CNAM','ma': 'ORG-100030215','mp': 'EU/1/20/1528','sd': 3,'tg': '840539006','vp': 'J07BX03'}],'dob': '1998-06-12','nam': {'fn': 'DELEAAATREZ', 'gn': 'OCEANE', 'fnt': 'DELETREZ', 'gnt': 'OCEANE'},'ver': '1.3.0'}"
   ]
  },
  {
   "cell_type": "code",
   "execution_count": null,
   "metadata": {},
   "outputs": [],
   "source": []
  },
  {
   "cell_type": "code",
   "execution_count": 37,
   "metadata": {},
   "outputs": [],
   "source": []
  },
  {
   "cell_type": "code",
   "execution_count": null,
   "metadata": {},
   "outputs": [],
   "source": []
  },
  {
   "cell_type": "code",
   "execution_count": null,
   "metadata": {},
   "outputs": [],
   "source": []
  }
 ],
 "metadata": {
  "kernelspec": {
   "display_name": "Python 3",
   "language": "python",
   "name": "python3"
  },
  "language_info": {
   "codemirror_mode": {
    "name": "ipython",
    "version": 3
   },
   "file_extension": ".py",
   "mimetype": "text/x-python",
   "name": "python",
   "nbconvert_exporter": "python",
   "pygments_lexer": "ipython3",
   "version": "3.7.6"
  }
 },
 "nbformat": 4,
 "nbformat_minor": 4
}
