{
 "cells": [
  {
   "cell_type": "code",
   "execution_count": 31,
   "metadata": {},
   "outputs": [
    {
     "data": {
      "text/plain": [
       "True"
      ]
     },
     "execution_count": 31,
     "metadata": {},
     "output_type": "execute_result"
    }
   ],
   "source": [
    "import webbrowser\n",
    "new = 2 # open in a new tab, if possible\n",
    "url = \"test.html\"\n",
    "webbrowser.open(url,new=new)\n"
   ]
  },
  {
   "cell_type": "code",
   "execution_count": 12,
   "metadata": {},
   "outputs": [],
   "source": [
    "table_file = open('test.html', 'w')\n",
    "table_file.write('<!DOCTYPE html><html><body>')\n",
    "table_file.close()"
   ]
  },
  {
   "cell_type": "code",
   "execution_count": 13,
   "metadata": {},
   "outputs": [
    {
     "ename": "SyntaxError",
     "evalue": "invalid syntax (<ipython-input-13-83d0cc6e94ca>, line 1)",
     "output_type": "error",
     "traceback": [
      "\u001b[1;36m  File \u001b[1;32m\"<ipython-input-13-83d0cc6e94ca>\"\u001b[1;36m, line \u001b[1;32m1\u001b[0m\n\u001b[1;33m    <link rel=\"icon\" type=\"image/png\" href=\"img/tor.png\">\u001b[0m\n\u001b[1;37m    ^\u001b[0m\n\u001b[1;31mSyntaxError\u001b[0m\u001b[1;31m:\u001b[0m invalid syntax\n"
     ]
    }
   ],
   "source": [
    "<link rel=\"icon\" type=\"image/png\" href=\"img/tor.png\">"
   ]
  },
  {
   "cell_type": "code",
   "execution_count": 14,
   "metadata": {},
   "outputs": [],
   "source": [
    "import bs4\n"
   ]
  },
  {
   "cell_type": "code",
   "execution_count": 30,
   "metadata": {},
   "outputs": [],
   "source": [
    "\n",
    "# load the file\n",
    "with open(\"test.html\") as inf:\n",
    "    txt = inf.read()\n",
    "    soup = bs4.BeautifulSoup(txt)\n",
    "\n",
    "# create new link\n",
    "new_link = soup.new_tag(\"link\", rel=\"icon\", type=\"image/png\", href=\"TestsPass/OCEANE_DELETREZ_VAC.png\")\n",
    "# insert it into the document\n",
    "soup.head.append(new_link)\n",
    "\n",
    "# save the file again\n",
    "with open(\"test.html\", \"w\") as outf:\n",
    "    outf.write(str(soup))"
   ]
  },
  {
   "cell_type": "code",
   "execution_count": 23,
   "metadata": {},
   "outputs": [],
   "source": [
    "a = 3"
   ]
  },
  {
   "cell_type": "code",
   "execution_count": 24,
   "metadata": {},
   "outputs": [],
   "source": [
    "texte = \"\"\"\n",
    "\n",
    "<html>\n",
    "\n",
    "<title>Pass Sanitaire</title>\n",
    "\n",
    "<head>\n",
    "\n",
    "\n",
    "\n",
    "test  (\"a\")\n",
    "\n",
    "\n",
    "\n",
    "</head>\n",
    "\n",
    "</html>\"\"\"\n",
    "\n",
    "\n",
    "\n",
    "x=open('test.html','w')\n",
    "\n",
    "x.write(texte)\n",
    "\n",
    "x.close() "
   ]
  },
  {
   "cell_type": "code",
   "execution_count": null,
   "metadata": {},
   "outputs": [],
   "source": [
    "htmlfile = open(\"test.html\", \"w\")\n",
    "    htmlfile.write(\"<html>\\n\")\n",
    "    statement for title\n",
    "    statement for header\n",
    "    htmlfile.write ('<img src = TestsPass/OCEANE_DELETREZ_VAC.png.png alt =\"cfg\">\\n') \n",
    "    htmlfile.write(\"</html>\\n\")\n",
    "    htmlfile.close() "
   ]
  }
 ],
 "metadata": {
  "kernelspec": {
   "display_name": "Python 3",
   "language": "python",
   "name": "python3"
  },
  "language_info": {
   "codemirror_mode": {
    "name": "ipython",
    "version": 3
   },
   "file_extension": ".py",
   "mimetype": "text/x-python",
   "name": "python",
   "nbconvert_exporter": "python",
   "pygments_lexer": "ipython3",
   "version": "3.7.6"
  }
 },
 "nbformat": 4,
 "nbformat_minor": 4
}
