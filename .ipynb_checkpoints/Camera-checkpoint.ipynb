{
 "cells": [
  {
   "cell_type": "markdown",
   "metadata": {},
   "source": [
    "Importation de librairies"
   ]
  },
  {
   "cell_type": "code",
   "execution_count": 15,
   "metadata": {},
   "outputs": [],
   "source": [
    "import cv2"
   ]
  },
  {
   "cell_type": "code",
   "execution_count": 3,
   "metadata": {},
   "outputs": [],
   "source": [
    "def CameraOpen(Camfx = 0.5, Camfy=0.5):\n",
    "    cap = cv2.VideoCapture(0)\n",
    "    if not cap.isOpened(): #cas d'erreur\n",
    "        raise IOError(\"Cannot open webcam\")\n",
    "        \n",
    "    while True:\n",
    "        ret, frame = cap.read()\n",
    "        frame = cv2.resize(frame, None, fx=Camfx, fy=Camfy, interpolation=cv2.INTER_AREA)\n",
    "        cv2.imshow('Input', frame)\n",
    "        c = cv2.waitKey(1) #echap\n",
    "        if c == 27:\n",
    "            break\n",
    "\n",
    "    cap.release()\n",
    "    cv2.destroyAllWindows()"
   ]
  },
  {
   "cell_type": "code",
   "execution_count": 28,
   "metadata": {},
   "outputs": [
    {
     "name": "stdout",
     "output_type": "stream",
     "text": [
      "Requirement already satisfied: pyzbar in c:\\users\\ecles\\anaconda3\\lib\\site-packages (0.1.8)\n",
      "Requirement already satisfied: pyzbar[scripts] in c:\\users\\ecles\\anaconda3\\lib\\site-packages (0.1.8)\n",
      "Requirement already satisfied: Pillow>=3.2.0; extra == \"scripts\" in c:\\users\\ecles\\anaconda3\\lib\\site-packages (from pyzbar[scripts]) (7.0.0)\n"
     ]
    }
   ],
   "source": [
    "!pip install pyzbar\n",
    "!pip install pyzbar[scripts]"
   ]
  },
  {
   "cell_type": "code",
   "execution_count": 27,
   "metadata": {},
   "outputs": [],
   "source": [
    "from pyzbar.pyzbar import decode"
   ]
  },
  {
   "cell_type": "markdown",
   "metadata": {},
   "source": [
    "def QRCodeDetection():\n",
    "    #img = cv2.imread('1.png')\n",
    "    cap = cv2.VideoCapture(0)\n",
    "    cap.set(3,640)\n",
    "    cap.set(4,480)\n",
    "    while True:\n",
    "        sucess, img = cap.read()\n",
    "        for barcode in decode(img):\n",
    "            print(barcode.data)\n",
    "            myData = barcode.data.decode('utf-8')\n",
    "            print(myData)\n",
    "        cv2.imshow('Result',img)\n",
    "        cv2.waitKey(1)"
   ]
  },
  {
   "cell_type": "code",
   "execution_count": 5,
   "metadata": {},
   "outputs": [],
   "source": [
    "def QRCodeDetection(Camfx = 0.5, Camfy=0.5):\n",
    "    cap = cv2.VideoCapture(0)\n",
    "    if not cap.isOpened(): #cas d'erreur\n",
    "        raise IOError(\"Cannot open webcam\")\n",
    "        \n",
    "    while True:\n",
    "        ret, frame = cap.read()\n",
    "        frame = cv2.resize(frame, None, fx=Camfx, fy=Camfy, interpolation=cv2.INTER_AREA)\n",
    "        for barcode in decode(frame):\n",
    "            print(barcode.data)\n",
    "            myData = barcode.data.decode('utf-8')\n",
    "            print(myData)\n",
    "            cv2.imshow('Input',frame)\n",
    "            c = cv2.waitKey(1)\n",
    "    cap.release()\n",
    "    cv2.destroyAllWindows()"
   ]
  },
  {
   "cell_type": "code",
   "execution_count": null,
   "metadata": {},
   "outputs": [],
   "source": []
  },
  {
   "cell_type": "code",
   "execution_count": null,
   "metadata": {},
   "outputs": [],
   "source": []
  }
 ],
 "metadata": {
  "kernelspec": {
   "display_name": "Python 3",
   "language": "python",
   "name": "python3"
  },
  "language_info": {
   "codemirror_mode": {
    "name": "ipython",
    "version": 3
   },
   "file_extension": ".py",
   "mimetype": "text/x-python",
   "name": "python",
   "nbconvert_exporter": "python",
   "pygments_lexer": "ipython3",
   "version": "3.7.6"
  }
 },
 "nbformat": 4,
 "nbformat_minor": 4
}
