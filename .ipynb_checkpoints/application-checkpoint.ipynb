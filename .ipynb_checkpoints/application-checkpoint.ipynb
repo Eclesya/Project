{
 "cells": [
  {
   "cell_type": "code",
   "execution_count": 10,
   "metadata": {},
   "outputs": [],
   "source": [
    "class application:\n",
    "    \n",
    "    nb_personnes_max = None\n",
    "    nb_personnes_now = 0\n",
    "    \n",
    "    def __init__(self,nb_psrn_max):\n",
    "        self.nb_personnes_max = nb_psrn_max\n",
    "    \n",
    "    #ajouter une nouvelle personne\n",
    "    def checkIndividu(self,Pass,indiv):\n",
    "        Pass.readQRcode()\n",
    "        Pass.decodeQRcodeData()#Decodage\n",
    "        Pass.QRcodeGetData()#stockage des variables\n",
    "        if(Pass.QRCodeIsValid()):\n",
    "            return true\n",
    "            #defini si le qr code est valide\n",
    "            #verification du nom\n",
    "            #verification du prénom\n",
    "            #vérification de la date de naissance \n",
    "        \n",
    "    #def addIndividu(Pass,indiv):\n",
    "        \n",
    "        #checker le nom de la personne == le nom sur le pass\n",
    "    \n",
    "    #retirer une personnne\n",
    "    \n",
    "    #verifier le nom de la personne\n",
    "    \n",
    "    "
   ]
  },
  {
   "cell_type": "code",
   "execution_count": null,
   "metadata": {},
   "outputs": [],
   "source": [
    "%run greenpass.ipynb"
   ]
  },
  {
   "cell_type": "code",
   "execution_count": 9,
   "metadata": {},
   "outputs": [],
   "source": [
    "class personne:\n",
    "    Nom = None\n",
    "    Prenom = None\n",
    "    Date_Naissance = None"
   ]
  },
  {
   "cell_type": "code",
   "execution_count": null,
   "metadata": {},
   "outputs": [],
   "source": []
  }
 ],
 "metadata": {
  "kernelspec": {
   "display_name": "Python 3",
   "language": "python",
   "name": "python3"
  },
  "language_info": {
   "codemirror_mode": {
    "name": "ipython",
    "version": 3
   },
   "file_extension": ".py",
   "mimetype": "text/x-python",
   "name": "python",
   "nbconvert_exporter": "python",
   "pygments_lexer": "ipython3",
   "version": "3.7.6"
  }
 },
 "nbformat": 4,
 "nbformat_minor": 4
}
