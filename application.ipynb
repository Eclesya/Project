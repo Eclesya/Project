{
 "cells": [
  {
   "cell_type": "code",
   "execution_count": 10,
   "metadata": {},
   "outputs": [],
   "source": [
    "\n",
    "    \n",
    "    "
   ]
  },
  {
   "cell_type": "code",
   "execution_count": 11,
   "metadata": {},
   "outputs": [
    {
     "name": "stdout",
     "output_type": "stream",
     "text": [
      "Requirement already satisfied: greenpass in c:\\users\\ecles\\anaconda3\\lib\\site-packages (4.2.2)\n",
      "Requirement already satisfied: tzlocal in c:\\users\\ecles\\anaconda3\\lib\\site-packages (from greenpass) (4.1)\n",
      "Requirement already satisfied: cose in c:\\users\\ecles\\anaconda3\\lib\\site-packages (from greenpass) (0.9.dev8)\n",
      "Requirement already satisfied: pytz in c:\\users\\ecles\\anaconda3\\lib\\site-packages (from greenpass) (2019.3)\n",
      "Requirement already satisfied: termcolor in c:\\users\\ecles\\anaconda3\\lib\\site-packages (from greenpass) (1.1.0)\n",
      "Requirement already satisfied: colorama in c:\\users\\ecles\\anaconda3\\lib\\site-packages (from greenpass) (0.4.3)\n",
      "Requirement already satisfied: Pillow in c:\\users\\ecles\\anaconda3\\lib\\site-packages (from greenpass) (7.0.0)\n",
      "Requirement already satisfied: PyMuPDF in c:\\users\\ecles\\anaconda3\\lib\\site-packages (from greenpass) (1.19.3)\n",
      "Requirement already satisfied: requests in c:\\users\\ecles\\anaconda3\\lib\\site-packages (from greenpass) (2.22.0)\n",
      "Requirement already satisfied: base45 in c:\\users\\ecles\\anaconda3\\lib\\site-packages (from greenpass) (0.4.3)\n",
      "Requirement already satisfied: pyasn1 in c:\\users\\ecles\\anaconda3\\lib\\site-packages (from greenpass) (0.4.8)\n",
      "Requirement already satisfied: pyzbar in c:\\users\\ecles\\anaconda3\\lib\\site-packages (from greenpass) (0.1.8)\n",
      "Requirement already satisfied: bs4 in c:\\users\\ecles\\anaconda3\\lib\\site-packages (from greenpass) (0.0.1)\n",
      "Requirement already satisfied: cbor2 in c:\\users\\ecles\\anaconda3\\lib\\site-packages (from greenpass) (5.4.2)\n",
      "Requirement already satisfied: pyOpenSSL in c:\\users\\ecles\\anaconda3\\lib\\site-packages (from greenpass) (19.1.0)\n",
      "Requirement already satisfied: tzdata; platform_system == \"Windows\" in c:\\users\\ecles\\anaconda3\\lib\\site-packages (from tzlocal->greenpass) (2021.5)\n",
      "Requirement already satisfied: backports.zoneinfo; python_version < \"3.9\" in c:\\users\\ecles\\anaconda3\\lib\\site-packages (from tzlocal->greenpass) (0.2.1)\n",
      "Requirement already satisfied: pytz-deprecation-shim in c:\\users\\ecles\\anaconda3\\lib\\site-packages (from tzlocal->greenpass) (0.1.0.post0)\n",
      "Requirement already satisfied: ecdsa in c:\\users\\ecles\\anaconda3\\lib\\site-packages (from cose->greenpass) (0.17.0)\n",
      "Requirement already satisfied: attrs in c:\\users\\ecles\\anaconda3\\lib\\site-packages (from cose->greenpass) (19.3.0)\n",
      "Requirement already satisfied: certvalidator in c:\\users\\ecles\\anaconda3\\lib\\site-packages (from cose->greenpass) (0.11.1)\n",
      "Requirement already satisfied: cryptography in c:\\users\\ecles\\anaconda3\\lib\\site-packages (from cose->greenpass) (2.8)\n",
      "Requirement already satisfied: chardet<3.1.0,>=3.0.2 in c:\\users\\ecles\\anaconda3\\lib\\site-packages (from requests->greenpass) (3.0.4)\n",
      "Requirement already satisfied: urllib3!=1.25.0,!=1.25.1,<1.26,>=1.21.1 in c:\\users\\ecles\\anaconda3\\lib\\site-packages (from requests->greenpass) (1.25.8)\n",
      "Requirement already satisfied: certifi>=2017.4.17 in c:\\users\\ecles\\anaconda3\\lib\\site-packages (from requests->greenpass) (2019.11.28)\n",
      "Requirement already satisfied: idna<2.9,>=2.5 in c:\\users\\ecles\\anaconda3\\lib\\site-packages (from requests->greenpass) (2.8)\n",
      "Requirement already satisfied: beautifulsoup4 in c:\\users\\ecles\\anaconda3\\lib\\site-packages (from bs4->greenpass) (4.8.2)\n",
      "Requirement already satisfied: six>=1.5.2 in c:\\users\\ecles\\anaconda3\\lib\\site-packages (from pyOpenSSL->greenpass) (1.15.0)\n",
      "Requirement already satisfied: asn1crypto>=0.18.1 in c:\\users\\ecles\\anaconda3\\lib\\site-packages (from certvalidator->cose->greenpass) (1.4.0)\n",
      "Requirement already satisfied: oscrypto>=0.16.1 in c:\\users\\ecles\\anaconda3\\lib\\site-packages (from certvalidator->cose->greenpass) (1.2.1)\n",
      "Requirement already satisfied: cffi!=1.11.3,>=1.8 in c:\\users\\ecles\\anaconda3\\lib\\site-packages (from cryptography->cose->greenpass) (1.14.0)\n",
      "Requirement already satisfied: soupsieve>=1.2 in c:\\users\\ecles\\anaconda3\\lib\\site-packages (from beautifulsoup4->bs4->greenpass) (1.9.5)\n",
      "Requirement already satisfied: pycparser in c:\\users\\ecles\\anaconda3\\lib\\site-packages (from cffi!=1.11.3,>=1.8->cryptography->cose->greenpass) (2.19)\n",
      "Requirement already satisfied: flynn in c:\\users\\ecles\\anaconda3\\lib\\site-packages (1.0.0b2)\n",
      "Requirement already satisfied: greenpass in c:\\users\\ecles\\anaconda3\\lib\\site-packages (4.2.2)\n",
      "Requirement already satisfied: termcolor in c:\\users\\ecles\\anaconda3\\lib\\site-packages (from greenpass) (1.1.0)\n",
      "Requirement already satisfied: cose in c:\\users\\ecles\\anaconda3\\lib\\site-packages (from greenpass) (0.9.dev8)\n",
      "Requirement already satisfied: pyzbar in c:\\users\\ecles\\anaconda3\\lib\\site-packages (from greenpass) (0.1.8)\n",
      "Requirement already satisfied: colorama in c:\\users\\ecles\\anaconda3\\lib\\site-packages (from greenpass) (0.4.3)\n",
      "Requirement already satisfied: cbor2 in c:\\users\\ecles\\anaconda3\\lib\\site-packages (from greenpass) (5.4.2)\n",
      "Requirement already satisfied: Pillow in c:\\users\\ecles\\anaconda3\\lib\\site-packages (from greenpass) (7.0.0)\n",
      "Requirement already satisfied: PyMuPDF in c:\\users\\ecles\\anaconda3\\lib\\site-packages (from greenpass) (1.19.3)\n",
      "Requirement already satisfied: pyOpenSSL in c:\\users\\ecles\\anaconda3\\lib\\site-packages (from greenpass) (19.1.0)\n",
      "Requirement already satisfied: base45 in c:\\users\\ecles\\anaconda3\\lib\\site-packages (from greenpass) (0.4.3)\n",
      "Requirement already satisfied: pytz in c:\\users\\ecles\\anaconda3\\lib\\site-packages (from greenpass) (2019.3)\n",
      "Requirement already satisfied: requests in c:\\users\\ecles\\anaconda3\\lib\\site-packages (from greenpass) (2.22.0)\n",
      "Requirement already satisfied: bs4 in c:\\users\\ecles\\anaconda3\\lib\\site-packages (from greenpass) (0.0.1)\n",
      "Requirement already satisfied: tzlocal in c:\\users\\ecles\\anaconda3\\lib\\site-packages (from greenpass) (4.1)\n",
      "Requirement already satisfied: pyasn1 in c:\\users\\ecles\\anaconda3\\lib\\site-packages (from greenpass) (0.4.8)\n",
      "Requirement already satisfied: cryptography in c:\\users\\ecles\\anaconda3\\lib\\site-packages (from cose->greenpass) (2.8)\n",
      "Requirement already satisfied: certvalidator in c:\\users\\ecles\\anaconda3\\lib\\site-packages (from cose->greenpass) (0.11.1)\n",
      "Requirement already satisfied: ecdsa in c:\\users\\ecles\\anaconda3\\lib\\site-packages (from cose->greenpass) (0.17.0)\n",
      "Requirement already satisfied: attrs in c:\\users\\ecles\\anaconda3\\lib\\site-packages (from cose->greenpass) (19.3.0)\n",
      "Requirement already satisfied: six>=1.5.2 in c:\\users\\ecles\\anaconda3\\lib\\site-packages (from pyOpenSSL->greenpass) (1.15.0)\n",
      "Requirement already satisfied: idna<2.9,>=2.5 in c:\\users\\ecles\\anaconda3\\lib\\site-packages (from requests->greenpass) (2.8)\n",
      "Requirement already satisfied: certifi>=2017.4.17 in c:\\users\\ecles\\anaconda3\\lib\\site-packages (from requests->greenpass) (2019.11.28)\n",
      "Requirement already satisfied: chardet<3.1.0,>=3.0.2 in c:\\users\\ecles\\anaconda3\\lib\\site-packages (from requests->greenpass) (3.0.4)\n",
      "Requirement already satisfied: urllib3!=1.25.0,!=1.25.1,<1.26,>=1.21.1 in c:\\users\\ecles\\anaconda3\\lib\\site-packages (from requests->greenpass) (1.25.8)\n",
      "Requirement already satisfied: beautifulsoup4 in c:\\users\\ecles\\anaconda3\\lib\\site-packages (from bs4->greenpass) (4.8.2)\n",
      "Requirement already satisfied: pytz-deprecation-shim in c:\\users\\ecles\\anaconda3\\lib\\site-packages (from tzlocal->greenpass) (0.1.0.post0)\n",
      "Requirement already satisfied: backports.zoneinfo; python_version < \"3.9\" in c:\\users\\ecles\\anaconda3\\lib\\site-packages (from tzlocal->greenpass) (0.2.1)\n",
      "Requirement already satisfied: tzdata; platform_system == \"Windows\" in c:\\users\\ecles\\anaconda3\\lib\\site-packages (from tzlocal->greenpass) (2021.5)\n",
      "Requirement already satisfied: cffi!=1.11.3,>=1.8 in c:\\users\\ecles\\anaconda3\\lib\\site-packages (from cryptography->cose->greenpass) (1.14.0)\n",
      "Requirement already satisfied: asn1crypto>=0.18.1 in c:\\users\\ecles\\anaconda3\\lib\\site-packages (from certvalidator->cose->greenpass) (1.4.0)\n",
      "Requirement already satisfied: oscrypto>=0.16.1 in c:\\users\\ecles\\anaconda3\\lib\\site-packages (from certvalidator->cose->greenpass) (1.2.1)\n",
      "Requirement already satisfied: soupsieve>=1.2 in c:\\users\\ecles\\anaconda3\\lib\\site-packages (from beautifulsoup4->bs4->greenpass) (1.9.5)\n",
      "Requirement already satisfied: pycparser in c:\\users\\ecles\\anaconda3\\lib\\site-packages (from cffi!=1.11.3,>=1.8->cryptography->cose->greenpass) (2.19)\n",
      "Requirement already satisfied: flynn in c:\\users\\ecles\\anaconda3\\lib\\site-packages (1.0.0b2)\n"
     ]
    }
   ],
   "source": [
    "%run greenpass.ipynb"
   ]
  },
  {
   "cell_type": "code",
   "execution_count": 9,
   "metadata": {},
   "outputs": [],
   "source": []
  },
  {
   "cell_type": "code",
   "execution_count": null,
   "metadata": {},
   "outputs": [],
   "source": []
  }
 ],
 "metadata": {
  "kernelspec": {
   "display_name": "Python 3",
   "language": "python",
   "name": "python3"
  },
  "language_info": {
   "codemirror_mode": {
    "name": "ipython",
    "version": 3
   },
   "file_extension": ".py",
   "mimetype": "text/x-python",
   "name": "python",
   "nbconvert_exporter": "python",
   "pygments_lexer": "ipython3",
   "version": "3.7.6"
  }
 },
 "nbformat": 4,
 "nbformat_minor": 4
}
