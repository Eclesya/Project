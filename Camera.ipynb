{
 "cells": [
  {
   "cell_type": "markdown",
   "metadata": {},
   "source": [
    "Importation de librairies"
   ]
  },
  {
   "cell_type": "code",
   "execution_count": 1,
   "metadata": {},
   "outputs": [],
   "source": [
    "import cv2"
   ]
  },
  {
   "cell_type": "code",
   "execution_count": 2,
   "metadata": {},
   "outputs": [],
   "source": [
    "def CameraOpen(Camfx = 0.5, Camfy=0.5):\n",
    "    cap = cv2.VideoCapture(0)\n",
    "    if not cap.isOpened(): #cas d'erreur\n",
    "        raise IOError(\"Cannot open webcam\")\n",
    "        \n",
    "    while True:\n",
    "        ret, frame = cap.read()\n",
    "        frame = cv2.resize(frame, None, fx=Camfx, fy=Camfy, interpolation=cv2.INTER_AREA)\n",
    "        cv2.imshow('Input', frame)\n",
    "        c = cv2.waitKey(1) #echap\n",
    "        if c == 27:\n",
    "            break\n",
    "\n",
    "    cap.release()\n",
    "    cv2.destroyAllWindows()"
   ]
  },
  {
   "cell_type": "code",
   "execution_count": 3,
   "metadata": {},
   "outputs": [
    {
     "name": "stdout",
     "output_type": "stream",
     "text": [
      "Requirement already satisfied: pyzbar in c:\\users\\ecles\\anaconda3\\lib\\site-packages (0.1.8)\n",
      "Requirement already satisfied: pyzbar[scripts] in c:\\users\\ecles\\anaconda3\\lib\\site-packages (0.1.8)\n",
      "Requirement already satisfied: Pillow>=3.2.0; extra == \"scripts\" in c:\\users\\ecles\\anaconda3\\lib\\site-packages (from pyzbar[scripts]) (7.0.0)\n"
     ]
    }
   ],
   "source": [
    "!pip install pyzbar\n",
    "!pip install pyzbar[scripts]"
   ]
  },
  {
   "cell_type": "code",
   "execution_count": 4,
   "metadata": {},
   "outputs": [],
   "source": [
    "from pyzbar.pyzbar import decode"
   ]
  },
  {
   "cell_type": "markdown",
   "metadata": {},
   "source": [
    "def QRCodeDetection():\n",
    "    #img = cv2.imread('1.png')\n",
    "    cap = cv2.VideoCapture(0)\n",
    "    cap.set(3,640)\n",
    "    cap.set(4,480)\n",
    "    while True:\n",
    "        sucess, img = cap.read()\n",
    "        for barcode in decode(img):\n",
    "            print(barcode.data)\n",
    "            myData = barcode.data.decode('utf-8')\n",
    "            print(myData)\n",
    "        cv2.imshow('Result',img)\n",
    "        cv2.waitKey(1)"
   ]
  },
  {
   "cell_type": "code",
   "execution_count": 5,
   "metadata": {},
   "outputs": [],
   "source": [
    "def QRCodeDetection(Camfx = 0.5, Camfy=0.5):\n",
    "    cap = cv2.VideoCapture(0)\n",
    "    if not cap.isOpened(): #cas d'erreur\n",
    "        raise IOError(\"Cannot open webcam\")\n",
    "        \n",
    "    while True:\n",
    "        ret, frame = cap.read()\n",
    "        frame = cv2.resize(frame, None, fx=Camfx, fy=Camfy, interpolation=cv2.INTER_AREA)\n",
    "        for barcode in decode(frame):\n",
    "            print(barcode.data)\n",
    "            myData = barcode.data.decode('utf-8')\n",
    "            print(myData)\n",
    "            cv2.imshow('Input',frame)\n",
    "            c = cv2.waitKey(1)\n",
    "    cap.release()\n",
    "    cv2.destroyAllWindows()"
   ]
  },
  {
   "cell_type": "code",
   "execution_count": 6,
   "metadata": {},
   "outputs": [
    {
     "name": "stdout",
     "output_type": "stream",
     "text": [
      "Requirement already satisfied: pyqrcode in c:\\users\\ecles\\anaconda3\\lib\\site-packages (1.2.1)\n"
     ]
    }
   ],
   "source": [
    "!pip install pyqrcode\n",
    "import pyqrcode"
   ]
  },
  {
   "cell_type": "code",
   "execution_count": 7,
   "metadata": {},
   "outputs": [],
   "source": [
    "import webbrowser\n",
    "from pyqrcode import QRCode"
   ]
  },
  {
   "cell_type": "code",
   "execution_count": 8,
   "metadata": {},
   "outputs": [
    {
     "ename": "error",
     "evalue": "OpenCV(4.5.1) C:\\Users\\appveyor\\AppData\\Local\\Temp\\1\\pip-req-build-oduouqig\\opencv\\modules\\objdetect\\src\\qrcode.cpp:2465: error: (-2:Unspecified error) in function 'class std::basic_string<char,struct std::char_traits<char>,class std::allocator<char> > __cdecl cv::QRCodeDetector::decode(const class cv::_InputArray &,const class cv::_InputArray &,const class cv::_OutputArray &)'\n> Invalid QR code source points (expected: 'contourArea(src_points) > 0.0'), where\n>     'contourArea(src_points)' is 0\n> must be greater than\n>     '0.0' is 0\n",
     "output_type": "error",
     "traceback": [
      "\u001b[1;31m---------------------------------------------------------------------------\u001b[0m",
      "\u001b[1;31merror\u001b[0m                                     Traceback (most recent call last)",
      "\u001b[1;32m<ipython-input-8-c6bf95d67478>\u001b[0m in \u001b[0;36m<module>\u001b[1;34m\u001b[0m\n\u001b[0;32m      3\u001b[0m \u001b[1;32mwhile\u001b[0m \u001b[1;32mTrue\u001b[0m\u001b[1;33m:\u001b[0m\u001b[1;33m\u001b[0m\u001b[1;33m\u001b[0m\u001b[0m\n\u001b[0;32m      4\u001b[0m     \u001b[0m_\u001b[0m\u001b[1;33m,\u001b[0m\u001b[0mimg\u001b[0m \u001b[1;33m=\u001b[0m \u001b[0mcap\u001b[0m\u001b[1;33m.\u001b[0m\u001b[0mread\u001b[0m\u001b[1;33m(\u001b[0m\u001b[1;33m)\u001b[0m\u001b[1;33m\u001b[0m\u001b[1;33m\u001b[0m\u001b[0m\n\u001b[1;32m----> 5\u001b[1;33m     \u001b[0mdata\u001b[0m\u001b[1;33m,\u001b[0m\u001b[0mone\u001b[0m\u001b[1;33m,\u001b[0m \u001b[0m_\u001b[0m \u001b[1;33m=\u001b[0m \u001b[0mdetector\u001b[0m\u001b[1;33m.\u001b[0m\u001b[0mdetectAndDecode\u001b[0m\u001b[1;33m(\u001b[0m\u001b[0mimg\u001b[0m\u001b[1;33m)\u001b[0m\u001b[1;33m\u001b[0m\u001b[1;33m\u001b[0m\u001b[0m\n\u001b[0m\u001b[0;32m      6\u001b[0m     \u001b[1;32mif\u001b[0m \u001b[0mdata\u001b[0m\u001b[1;33m:\u001b[0m\u001b[1;33m\u001b[0m\u001b[1;33m\u001b[0m\u001b[0m\n\u001b[0;32m      7\u001b[0m         \u001b[0ma\u001b[0m \u001b[1;33m=\u001b[0m \u001b[0mdata\u001b[0m\u001b[1;33m\u001b[0m\u001b[1;33m\u001b[0m\u001b[0m\n",
      "\u001b[1;31merror\u001b[0m: OpenCV(4.5.1) C:\\Users\\appveyor\\AppData\\Local\\Temp\\1\\pip-req-build-oduouqig\\opencv\\modules\\objdetect\\src\\qrcode.cpp:2465: error: (-2:Unspecified error) in function 'class std::basic_string<char,struct std::char_traits<char>,class std::allocator<char> > __cdecl cv::QRCodeDetector::decode(const class cv::_InputArray &,const class cv::_InputArray &,const class cv::_OutputArray &)'\n> Invalid QR code source points (expected: 'contourArea(src_points) > 0.0'), where\n>     'contourArea(src_points)' is 0\n> must be greater than\n>     '0.0' is 0\n"
     ]
    }
   ],
   "source": [
    "cap = cv2.VideoCapture(0)\n",
    "detector =cv2.QRCodeDetector()\n",
    "while True:\n",
    "    _,img = cap.read()\n",
    "    data,one, _ = detector.detectAndDecode(img)\n",
    "    if data:\n",
    "        a = data\n",
    "        print(a)\n",
    "        break\n",
    "    cv2.imshow('qrcodescanner app',img)\n",
    "    if cv2.waitKey(1)==ord('q'):\n",
    "        break\n",
    "b =webbrowser.open(str(a))\n",
    "cap.release(a)\n",
    "cv2.destroyAllWindows"
   ]
  },
  {
   "cell_type": "code",
   "execution_count": 1,
   "metadata": {},
   "outputs": [
    {
     "name": "stdout",
     "output_type": "stream",
     "text": [
      "Collecting base45\n",
      "  Downloading base45-0.4.3-py3-none-any.whl (3.5 kB)\n",
      "Collecting cbor2\n",
      "  Downloading cbor2-5.4.2-cp37-cp37m-win_amd64.whl (61 kB)\n",
      "Requirement already satisfied: pillow in c:\\users\\ecles\\anaconda3\\lib\\site-packages (7.0.0)\n",
      "Requirement already satisfied: pyzbar in c:\\users\\ecles\\anaconda3\\lib\\site-packages (0.1.8)\n",
      "Installing collected packages: base45, cbor2\n",
      "Successfully installed base45-0.4.3 cbor2-5.4.2\n"
     ]
    }
   ],
   "source": [
    "!pip install base45 cbor2 pillow pyzbar"
   ]
  },
  {
   "cell_type": "code",
   "execution_count": null,
   "metadata": {},
   "outputs": [],
   "source": []
  }
 ],
 "metadata": {
  "kernelspec": {
   "display_name": "Python 3",
   "language": "python",
   "name": "python3"
  },
  "language_info": {
   "codemirror_mode": {
    "name": "ipython",
    "version": 3
   },
   "file_extension": ".py",
   "mimetype": "text/x-python",
   "name": "python",
   "nbconvert_exporter": "python",
   "pygments_lexer": "ipython3",
   "version": "3.7.6"
  }
 },
 "nbformat": 4,
 "nbformat_minor": 4
}
