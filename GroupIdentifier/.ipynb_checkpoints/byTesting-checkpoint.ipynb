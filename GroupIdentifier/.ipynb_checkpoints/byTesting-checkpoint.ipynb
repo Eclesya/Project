{
 "cells": [
  {
   "cell_type": "code",
   "execution_count": 1,
   "metadata": {},
   "outputs": [],
   "source": [
    "class testing:\n",
    "    _tg = None #Disease of agent targeted\n",
    "    _tt = None #The type of test\n",
    "    _tn = None #Test name \n",
    "    _ma = None #Test device identifier\n",
    "    _sc = None #date and time\n",
    "    _tr = None #result of the test\n",
    "    _co = None #Pays\n",
    "    _is = None #Certificate issuer\n",
    "    _ci = None #Unique certificate identifier\n",
    "    \n",
    "    \"\"\"\n",
    "    Fonction:'getName_tg'\n",
    "        Affiche la maladie à partir de son code, stocké dans la variable '_tg'. \n",
    "             Paramètres requis : aucun\n",
    "             Sortie retournée  : une chaine de caractères\n",
    "    \"\"\"\n",
    "    def getName_tg(self):\n",
    "        if   self._tg == '840539006':         return 'COVID-19'\n",
    "        else:                                 return 'CODE INCONNU'\n",
    "    \n",
    "    \"\"\"\n",
    "    Fonction:'getName_tt'\n",
    "        Affiche le type de test, stocké dans la variable '_tt'. \n",
    "             Paramètres requis : aucun\n",
    "             Sortie retournée  : une chaine de caractères\n",
    "    \"\"\"\n",
    "    def getName_tt(self):\n",
    "        if self._tt == 'LP6464-4' :            return 'Nucleic acid amplification with probe detection'\n",
    "        if self._tt == 'LP217198-3':           return 'Rapid immunoassay'\n",
    "        else:                                 return 'CODE INCONNU'\n",
    "        \n",
    "    def getName_tr(self):\n",
    "        if self._tr == '260415000':            return 'Not detected'\n",
    "        if self._tr == '260373001':            return 'Detected'\n",
    "        else:                                 return 'CODE INCONNU'\n",
    "\n",
    "        "
   ]
  }
 ],
 "metadata": {
  "kernelspec": {
   "display_name": "Python 3",
   "language": "python",
   "name": "python3"
  },
  "language_info": {
   "codemirror_mode": {
    "name": "ipython",
    "version": 3
   },
   "file_extension": ".py",
   "mimetype": "text/x-python",
   "name": "python",
   "nbconvert_exporter": "python",
   "pygments_lexer": "ipython3",
   "version": "3.7.6"
  }
 },
 "nbformat": 4,
 "nbformat_minor": 4
}
