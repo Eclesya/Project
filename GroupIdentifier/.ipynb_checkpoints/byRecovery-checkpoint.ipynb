{
 "cells": [
  {
   "cell_type": "code",
   "execution_count": null,
   "metadata": {},
   "outputs": [],
   "source": [
    "class recovery:\n",
    "    _tg = None #Disease of agent\n",
    "    _fr = None #Date of the holder's first positive test result\n",
    "    _co = None #Country\n",
    "    _is = None #Certificate issuer\n",
    "    _df = None #Certificate valid forme\n",
    "    _du = None #Certificate valid until\n",
    "    _ci = None #Certificate unique identifier\n",
    "    \n",
    "    \"\"\"\n",
    "    Fonction:'getName_tg'\n",
    "        Affiche la maladie à partir de son code, stocké dans la variable '_tg'. \n",
    "             Paramètres requis : aucun\n",
    "             Sortie retournée  : une chaine de caractères\n",
    "    \"\"\"\n",
    "    def getName_tg(self):\n",
    "        if   self._tg == '840539006':         return 'COVID-19'\n",
    "        else:                                 return 'CODE INCONNU'\n",
    "    "
   ]
  }
 ],
 "metadata": {
  "kernelspec": {
   "display_name": "Python 3",
   "language": "python",
   "name": "python3"
  },
  "language_info": {
   "codemirror_mode": {
    "name": "ipython",
    "version": 3
   },
   "file_extension": ".py",
   "mimetype": "text/x-python",
   "name": "python",
   "nbconvert_exporter": "python",
   "pygments_lexer": "ipython3",
   "version": "3.7.6"
  }
 },
 "nbformat": 4,
 "nbformat_minor": 4
}
